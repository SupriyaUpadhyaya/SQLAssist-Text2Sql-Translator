{
  "cells": [
    {
      "cell_type": "code",
      "execution_count": 4,
      "metadata": {
        "id": "psLzSMZMQlMf"
      },
      "outputs": [],
      "source": [
        "%%capture\n",
        "!pip install --no-deps \"xformers<0.0.26\" trl peft accelerate bitsandbytes\n",
        "!pip install langchain_community\n",
        "!pip install langchain\n",
        "!pip install streamlit\n",
        "!npm install localtunnel\n",
        "!pip install load_dotenv\n",
        "!pip install llama-index-embeddings-langchain\n",
        "!pip install llama-index-embeddings-huggingface\n",
        "!pip install llama-index\n",
        "!pip install \"unsloth[colab-new] @ git+https://github.com/unslothai/unsloth.git\"\n",
        "!pip install llama-index\n",
        "!pip install llama-index-llms-huggingface\n",
        "!pip install llama-index-embeddings-langchain\n",
        "!pip install llama-index-embeddings-huggingface"
      ]
    },
    {
      "cell_type": "code",
      "execution_count": null,
      "metadata": {
        "id": "zqynpd9TfT6P"
      },
      "outputs": [],
      "source": [
        "from google.colab import drive\n",
        "drive.mount('/content/drive')"
      ]
    },
    {
      "cell_type": "code",
      "execution_count": 8,
      "metadata": {
        "colab": {
          "base_uri": "https://localhost:8080/"
        },
        "id": "UYdAB80de3K6",
        "outputId": "4391d91c-e62a-4e82-eacf-d4eb0d63a385"
      },
      "outputs": [
        {
          "name": "stdout",
          "output_type": "stream",
          "text": [
            "/content/drive/MyDrive\n"
          ]
        }
      ],
      "source": [
        "%cd /content/drive/MyDrive\n",
        "!git clone https://github.com/SupriyaUpadhyaya/SQLAssist-Text2Sql-Translator.git"
      ]
    },
    {
      "cell_type": "code",
      "execution_count": 53,
      "metadata": {
        "colab": {
          "base_uri": "https://localhost:8080/"
        },
        "id": "GA5fNp9TffLE",
        "outputId": "0eb81952-4f80-467e-9a60-4bc58baa5e4a"
      },
      "outputs": [
        {
          "name": "stdout",
          "output_type": "stream",
          "text": [
            "/content/drive/MyDrive/HCNLP-NL2SQL-Project\n"
          ]
        }
      ],
      "source": [
        "%cd /content/drive/MyDrive/SQLAssist-Text2Sql-Translator"
      ]
    },
    {
      "cell_type": "code",
      "execution_count": null,
      "metadata": {
        "id": "AxKNpkzBm4aD"
      },
      "outputs": [],
      "source": [
        "!git pull"
      ]
    },
    {
      "cell_type": "code",
      "execution_count": 2,
      "metadata": {
        "colab": {
          "base_uri": "https://localhost:8080/"
        },
        "id": "BDFTpKZVSK5U",
        "outputId": "e1cb494d-8df6-4aed-d366-a9e24389ec06"
      },
      "outputs": [
        {
          "name": "stdout",
          "output_type": "stream",
          "text": [
            "34.143.226.31"
          ]
        }
      ],
      "source": [
        "!wget -q -O - https://loca.lt/mytunnelpassword"
      ]
    },
    {
      "cell_type": "markdown",
      "metadata": {},
      "source": [
        "copy the password"
      ]
    },
    {
      "cell_type": "code",
      "execution_count": 7,
      "metadata": {
        "id": "GAq2M3UuR_3s"
      },
      "outputs": [],
      "source": [
        "!streamlit run /content/drive/MyDrive/SQLAssist-Text2Sql-Translator/main.py &>/content/logs.log &"
      ]
    },
    {
      "cell_type": "code",
      "execution_count": 3,
      "metadata": {
        "colab": {
          "base_uri": "https://localhost:8080/"
        },
        "id": "2LakRyPtSN8W",
        "outputId": "315738a8-eba4-4690-8673-f27b6c8073e4"
      },
      "outputs": [
        {
          "name": "stdout",
          "output_type": "stream",
          "text": [
            "nohup: appending output to 'nohup.out'\n"
          ]
        }
      ],
      "source": [
        "!nohup npx localtunnel --port 8501 &"
      ]
    },
    {
      "cell_type": "code",
      "execution_count": null,
      "metadata": {},
      "outputs": [],
      "source": [
        "!cat nohup.out"
      ]
    },
    {
      "cell_type": "markdown",
      "metadata": {},
      "source": [
        "open the link and paste the copied password"
      ]
    },
    {
      "cell_type": "code",
      "execution_count": null,
      "metadata": {},
      "outputs": [],
      "source": [
        "!tail -1000 '/content/logs.log'"
      ]
    },
    {
      "cell_type": "code",
      "execution_count": null,
      "metadata": {},
      "outputs": [],
      "source": [
        "!tail -1000 '/content/drive/MyDrive/SQLAssist-Text2Sql-Translator/app_logs.log'"
      ]
    }
  ],
  "metadata": {
    "accelerator": "GPU",
    "colab": {
      "authorship_tag": "ABX9TyOXK6ucGVfyJv/LRKZB4m3I",
      "gpuType": "T4",
      "include_colab_link": true,
      "mount_file_id": "13u_ATI9NadQI5UY72u4zL4GtTS89vUfD",
      "provenance": []
    },
    "kernelspec": {
      "display_name": "Python 3",
      "name": "python3"
    },
    "language_info": {
      "name": "python"
    }
  },
  "nbformat": 4,
  "nbformat_minor": 0
}
